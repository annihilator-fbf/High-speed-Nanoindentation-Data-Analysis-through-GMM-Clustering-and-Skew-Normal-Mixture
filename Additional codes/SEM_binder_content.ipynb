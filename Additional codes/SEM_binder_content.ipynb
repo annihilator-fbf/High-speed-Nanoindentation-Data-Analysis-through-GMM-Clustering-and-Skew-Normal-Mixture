{
  "nbformat": 4,
  "nbformat_minor": 0,
  "metadata": {
    "colab": {
      "provenance": []
    },
    "kernelspec": {
      "name": "python3",
      "display_name": "Python 3"
    },
    "language_info": {
      "name": "python"
    }
  },
  "cells": [
    {
      "cell_type": "code",
      "execution_count": null,
      "metadata": {
        "id": "5F8EMuXLUweS"
      },
      "outputs": [],
      "source": [
        "#Write the dimensions (in microns) of your nanoindentation map\n",
        "X_MapDimension= 100\n",
        "Y_MapDimension = 100\n",
        "\n",
        "image= '/image_path.tif'"
      ]
    },
    {
      "cell_type": "code",
      "source": [
        "import matplotlib.pyplot as plt\n",
        "\n",
        "# Load SEM image\n",
        "sem_img = plt.imread(image)\n",
        "\n",
        "# Get dimensions of SEM image in pixels\n",
        "height, width, channels = sem_img.shape\n",
        "\n",
        "print(f\"SEM image dimensions: {width} x {height} pixels\")"
      ],
      "metadata": {
        "id": "wrL9WeVgU5nH"
      },
      "execution_count": null,
      "outputs": []
    },
    {
      "cell_type": "code",
      "source": [
        "import cv2\n",
        "import numpy as np\n",
        "import matplotlib.pyplot as plt\n",
        "img = cv2.imread(image)\n",
        "\n",
        "# Convert the image to grayscale\n",
        "gray = cv2.cvtColor(img, cv2.COLOR_BGR2GRAY)\n",
        "\n",
        "# Apply a threshold to the grayscale image\n",
        "thresh_value = 90 # adjust this value to set the threshold\n",
        "thresh, binary = cv2.threshold(gray, thresh_value, 255, cv2.THRESH_BINARY)\n",
        "\n",
        "# Count the number of pixels in the darker phase and calculate %\n",
        "dark_pixels = np.count_nonzero(binary == 0)\n",
        "total_pixels = binary.shape[0] * binary.shape[1]\n",
        "dark_percentage = (dark_pixels / total_pixels) * 100\n",
        "\n",
        "print(f\"The volume percentage of the binder is: {dark_percentage:.2f}%\")\n",
        "\n",
        "# Display the original image and the thresholded image side by side\n",
        "fig, ax = plt.subplots(1, 2, figsize=(10, 5))\n",
        "ax[0].imshow(cv2.cvtColor(img, cv2.COLOR_BGR2RGB))\n",
        "ax[0].set_title('Original Image')\n",
        "ax[1].imshow(binary, cmap='gray')\n",
        "ax[1].set_title('Thresholded Image')\n",
        "plt.show()"
      ],
      "metadata": {
        "id": "1o3ClU3yU6EW"
      },
      "execution_count": null,
      "outputs": []
    }
  ]
}